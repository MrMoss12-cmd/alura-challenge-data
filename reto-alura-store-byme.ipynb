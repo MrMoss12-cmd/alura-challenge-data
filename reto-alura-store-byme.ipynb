{
 "cells": [
  {
   "cell_type": "code",
   "execution_count": 1,
   "id": "7d56429c-6951-4317-ada0-78bdf3462e6f",
   "metadata": {},
   "outputs": [
    {
     "name": "stderr",
     "output_type": "stream",
     "text": [
      "Matplotlib is building the font cache; this may take a moment.\n"
     ]
    }
   ],
   "source": [
    "# Verificar las versiones de las bibliotecas instaladas\n",
    "import pandas as pd\n",
    "import numpy as np\n",
    "import matplotlib.pyplot as plt\n",
    "import sqlite3\n"
   ]
  },
  {
   "cell_type": "code",
   "execution_count": 2,
   "id": "ca84b212-d7df-4799-abd4-084a7ec6c815",
   "metadata": {},
   "outputs": [
    {
     "name": "stdout",
     "output_type": "stream",
     "text": [
      "Pandas version: 2.2.3\n",
      "NumPy version: 2.1.1\n"
     ]
    }
   ],
   "source": [
    "print(f\"Pandas version: {pd.__version__}\")\n",
    "print(f\"NumPy version: {np.__version__}\")\n"
   ]
  },
  {
   "cell_type": "code",
   "execution_count": 3,
   "id": "21083800-de07-4735-94f6-a77a57e48640",
   "metadata": {},
   "outputs": [],
   "source": [
    "# URLs de los archivos CSV\n",
    "url1 = r\"c:\\Users\\Elias Higuera Acosta\\Desktop\\reto_alura\\data\\tienda_1 .csv\"\n",
    "url2 = r\"c:\\Users\\Elias Higuera Acosta\\Desktop\\reto_alura\\data\\tienda_2.csv\"\n",
    "url3 = r\"c:\\Users\\Elias Higuera Acosta\\Desktop\\reto_alura\\data\\tienda_3.csv\"\n",
    "url4 = r\"c:\\Users\\Elias Higuera Acosta\\Desktop\\reto_alura\\data\\tienda_4.csv\"\n"
   ]
  },
  {
   "cell_type": "code",
   "execution_count": 4,
   "id": "53c20ac6-5012-4cd2-bc66-e25d9d1ae4e6",
   "metadata": {},
   "outputs": [],
   "source": [
    "# Cargar los datos en DataFrames\n",
    "tienda1 = pd.read_csv(url1)\n",
    "tienda2 = pd.read_csv(url2)\n",
    "tienda3 = pd.read_csv(url3)\n",
    "tienda4 = pd.read_csv(url4)"
   ]
  },
  {
   "cell_type": "code",
   "execution_count": 5,
   "id": "fbffb7c8-0244-4da0-b66d-6f1582476e62",
   "metadata": {},
   "outputs": [
    {
     "name": "stdout",
     "output_type": "stream",
     "text": [
      "Datos de Tienda 1:\n",
      "            Producto Categoría del Producto    Precio  Costo de envío  \\\n",
      "0  Asistente virtual           Electrónicos  164300.0          6900.0   \n",
      "1    Mesa de comedor                Muebles  192300.0          8400.0   \n",
      "2      Juego de mesa               Juguetes  209600.0         15900.0   \n",
      "3         Microondas      Electrodomésticos  757500.0         41000.0   \n",
      "4   Silla de oficina                Muebles  335200.0         20200.0   \n",
      "\n",
      "  Fecha de Compra         Vendedor Lugar de Compra  Calificación  \\\n",
      "0      16/01/2021      Pedro Gomez          Bogotá             4   \n",
      "1      18/05/2022  Beatriz Morales        Medellín             1   \n",
      "2      15/03/2021   Juan Fernandez       Cartagena             1   \n",
      "3      03/05/2022   Juan Fernandez            Cali             4   \n",
      "4      07/11/2020    Maria Alfonso        Medellín             5   \n",
      "\n",
      "       Método de pago  Cantidad de cuotas       lat       lon  \n",
      "0  Tarjeta de crédito                   8   4.60971 -74.08175  \n",
      "1  Tarjeta de crédito                   4   6.25184 -75.56359  \n",
      "2  Tarjeta de crédito                   1  10.39972 -75.51444  \n",
      "3               Nequi                   1   3.43722 -76.52250  \n",
      "4               Nequi                   1   6.25184 -75.56359  \n",
      "\n",
      "Datos de Tienda 2:\n",
      "           Producto  Categoría del Producto    Precio  Costo de envío  \\\n",
      "0  Silla de oficina                 Muebles  283600.0         15300.0   \n",
      "1         Pandereta  Instrumentos musicales   76800.0          2300.0   \n",
      "2         Cama king                 Muebles  443300.0         23800.0   \n",
      "3         Cama king                 Muebles  906200.0         46400.0   \n",
      "4  Silla de oficina                 Muebles  397800.0         19400.0   \n",
      "\n",
      "  Fecha de Compra         Vendedor Lugar de Compra  Calificación  \\\n",
      "0      04/08/2021  Izabela de León        Medellín             1   \n",
      "1      26/11/2020   Blanca Ramirez        Medellín             3   \n",
      "2      22/10/2021  Izabela de León         Pereira             5   \n",
      "3      04/05/2022    Maria Alfonso            Cali             5   \n",
      "4      26/02/2022    Lucas Olivera          Bogotá             4   \n",
      "\n",
      "       Método de pago  Cantidad de cuotas      lat       lon  \n",
      "0               Nequi                   1  6.25184 -75.56359  \n",
      "1  Tarjeta de crédito                   4  6.25184 -75.56359  \n",
      "2  Tarjeta de crédito                  10  4.81333 -75.69611  \n",
      "3  Tarjeta de crédito                  10  3.43722 -76.52250  \n",
      "4  Tarjeta de crédito                   3  4.60971 -74.08175  \n",
      "\n",
      "Datos de Tienda 3:\n",
      "            Producto  Categoría del Producto     Precio  Costo de envío  \\\n",
      "0   Secadora de ropa       Electrodomésticos  1285100.0         66600.0   \n",
      "1      Mesa de noche                 Muebles   290100.0         13600.0   \n",
      "2  Guitarra acústica  Instrumentos musicales   303500.0         17400.0   \n",
      "3  Balón de voleibol    Deportes y diversión    58800.0          3300.0   \n",
      "4            Armario                 Muebles   521100.0         25900.0   \n",
      "\n",
      "  Fecha de Compra        Vendedor Lugar de Compra  Calificación  \\\n",
      "0      17/12/2021   Camila Rivera     Santa Marta             4   \n",
      "1      10/02/2021   Maria Alfonso            Cali             3   \n",
      "2      22/01/2023   Lucas Olivera          Bogotá             5   \n",
      "3      22/03/2022     Pedro Gomez    Barranquilla             4   \n",
      "4      12/01/2022  Blanca Ramirez          Bogotá             1   \n",
      "\n",
      "       Método de pago  Cantidad de cuotas       lat       lon  \n",
      "0  Tarjeta de crédito                   4  11.24079 -74.19904  \n",
      "1  Tarjeta de crédito                   1   3.43722 -76.52250  \n",
      "2  Tarjeta de crédito                   3   4.60971 -74.08175  \n",
      "3  Tarjeta de crédito                   6  10.96854 -74.78132  \n",
      "4  Tarjeta de crédito                   1   4.60971 -74.08175  \n",
      "\n",
      "Datos de Tienda 4:\n",
      "              Producto Categoría del Producto     Precio  Costo de envío  \\\n",
      "0         Lavavajillas      Electrodomésticos  1084800.0         56000.0   \n",
      "1             Cama box                Muebles   473800.0         25400.0   \n",
      "2  Balón de baloncesto   Deportes y diversión    23700.0             0.0   \n",
      "3  Modelado predictivo                 Libros    57700.0          1300.0   \n",
      "4          Auriculares           Electrónicos   138900.0          5600.0   \n",
      "\n",
      "  Fecha de Compra         Vendedor Lugar de Compra  Calificación  \\\n",
      "0      11/11/2022    Rafael Acosta          Bogotá             4   \n",
      "1      03/01/2020  Izabela de León          Cúcuta             5   \n",
      "2      25/12/2022    Maria Alfonso        Medellín             5   \n",
      "3      23/11/2021    Lucas Olivera        Medellín             3   \n",
      "4      25/04/2022   Blanca Ramirez          Bogotá             4   \n",
      "\n",
      "       Método de pago  Cantidad de cuotas      lat       lon  \n",
      "0  Tarjeta de crédito                   3  4.60971 -74.08175  \n",
      "1  Tarjeta de crédito                   2  7.89391 -72.50782  \n",
      "2               Nequi                   1  6.25184 -75.56359  \n",
      "3               Nequi                   1  6.25184 -75.56359  \n",
      "4  Tarjeta de crédito                   7  4.60971 -74.08175  \n"
     ]
    }
   ],
   "source": [
    "# Mostrar las primeras filas de cada DataFrame\n",
    "print(\"Datos de Tienda 1:\")\n",
    "print(tienda1.head())\n",
    "\n",
    "print(\"\\nDatos de Tienda 2:\")\n",
    "print(tienda2.head())\n",
    "\n",
    "print(\"\\nDatos de Tienda 3:\")\n",
    "print(tienda3.head())\n",
    "\n",
    "print(\"\\nDatos de Tienda 4:\")\n",
    "print(tienda4.head())"
   ]
  },
  {
   "cell_type": "code",
   "execution_count": 11,
   "id": "cf67ff0b-f2ad-4876-885f-3f7ce4a10a38",
   "metadata": {},
   "outputs": [
    {
     "name": "stdout",
     "output_type": "stream",
     "text": [
      "\n",
      "Productos por categoría:\n",
      "[('Muebles', 465), ('Electrónicos', 448), ('Juguetes', 324), ('Electrodomésticos', 312), ('Deportes y diversión', 284), ('Instrumentos musicales', 182), ('Libros', 173), ('Artículos para el hogar', 171)]\n"
     ]
    }
   ],
   "source": [
    "# Crear una conexión a la base de datos SQLite (se creará si no existe)\n",
    "# Conectar a la base de datos\n",
    "conn = sqlite3.connect('alura_store.db')\n",
    "cursor = conn.cursor()\n",
    "\n",
    "# Crear la tabla \"tienda1\"\n",
    "tienda1.to_sql('tienda1', conn, if_exists='replace', index=False)\n",
    "# Crear la tabla \"tienda2\"\n",
    "tienda2.to_sql('tienda2', conn, if_exists='replace', index=False)\n",
    "# Crear la tabla \"tienda3\"\n",
    "tienda3.to_sql('tienda3', conn, if_exists='replace', index=False)\n",
    "# Crear la tabla \"tienda4\"\n",
    "tienda4.to_sql('tienda4', conn, if_exists='replace', index=False)\n",
    "\n",
    "\n",
    "# Consulta 1: Producto y Categoría\n",
    "cursor.execute(\"\"\"\n",
    "    SELECT \"Categoría del Producto\", COUNT(*) AS cantidad_productos\n",
    "    FROM tienda1\n",
    "    GROUP BY \"Categoría del Producto\"\n",
    "    ORDER BY cantidad_productos DESC;\n",
    "\"\"\")\n",
    "print(\"\\nProductos por categoría:\")\n",
    "print(cursor.fetchall())\n"
   ]
  },
  {
   "cell_type": "markdown",
   "id": "c2c1833e",
   "metadata": {},
   "source": []
  },
  {
   "cell_type": "code",
   "execution_count": 17,
   "id": "ac00fa8b-1269-43b5-a45c-3292ff16c0b1",
   "metadata": {},
   "outputs": [
    {
     "name": "stdout",
     "output_type": "stream",
     "text": [
      "\n",
      "Precio y envío promedio por categoría:\n",
      "[('Artículos para el hogar', 74259.64912280702, 3764.9122807017543), ('Deportes y diversión', 138345.0704225352, 7468.661971830986), ('Electrodomésticos', 1165657.6923076923, 61935.89743589744), ('Electrónicos', 958690.8482142857, 51258.25892857143), ('Instrumentos musicales', 501642.85714285716, 26834.615384615383), ('Juguetes', 55542.28395061728, 3023.1481481481483), ('Libros', 50779.76878612717, 2699.421965317919), ('Muebles', 403513.3333333333, 21494.40860215054)]\n"
     ]
    }
   ],
   "source": [
    "# Consulta 2: Precio y Envío\n",
    "cursor.execute(\"\"\"\n",
    "    SELECT \n",
    "        \"Categoría del Producto\",\n",
    "        AVG(Precio) AS precio_promedio,\n",
    "        AVG(\"Costo de envío\") AS envio_promedio\n",
    "    FROM tienda1\n",
    "    GROUP BY \"Categoría del Producto\";\n",
    "\"\"\")\n",
    "print(\"\\nPrecio y envío promedio por categoría:\")\n",
    "print(cursor.fetchall())"
   ]
  },
  {
   "cell_type": "code",
   "execution_count": 19,
   "id": "c7e906f3-92c7-4514-be13-03cdf110b996",
   "metadata": {},
   "outputs": [
    {
     "name": "stdout",
     "output_type": "stream",
     "text": [
      "\n",
      "Compras por categoría y mes:\n",
      "[('Artículos para el hogar', None, 171), ('Deportes y diversión', None, 284), ('Electrodomésticos', None, 312), ('Electrónicos', None, 448), ('Instrumentos musicales', None, 182), ('Juguetes', None, 324), ('Libros', None, 173), ('Muebles', None, 465)]\n"
     ]
    }
   ],
   "source": [
    "# Consulta 3: Fecha y ubicación de compra\n",
    "cursor.execute(\"\"\"\n",
    "    SELECT \n",
    "        \"Categoría del Producto\",\n",
    "        strftime('%Y-%m', \"Fecha de Compra\") AS mes,\n",
    "        COUNT(*) AS compras\n",
    "    FROM tienda1\n",
    "    GROUP BY \"Categoría del Producto\", mes\n",
    "    ORDER BY mes;\n",
    "\"\"\")\n",
    "print(\"\\nCompras por categoría y mes:\")\n",
    "print(cursor.fetchall())\n"
   ]
  },
  {
   "cell_type": "code",
   "execution_count": 21,
   "id": "ce3e8ab9-e5f8-4382-99f1-4faf7e5f98a7",
   "metadata": {},
   "outputs": [
    {
     "name": "stdout",
     "output_type": "stream",
     "text": [
      "\n",
      "Evaluación promedio por categoría:\n",
      "[('Artículos para el hogar', 3.7485380116959064), ('Deportes y diversión', 3.897887323943662), ('Electrodomésticos', 4.032051282051282), ('Electrónicos', 4.004464285714286), ('Instrumentos musicales', 4.049450549450549), ('Juguetes', 4.077160493827161), ('Libros', 3.976878612716763), ('Muebles', 3.946236559139785)]\n"
     ]
    }
   ],
   "source": [
    "# Consulta 4: Evaluación de compra\n",
    "cursor.execute(\"\"\"\n",
    "    SELECT \n",
    "        \"Categoría del Producto\",\n",
    "        AVG(Calificación) AS evaluacion_promedio\n",
    "    FROM tienda1\n",
    "    GROUP BY \"Categoría del Producto\";\n",
    "\"\"\")\n",
    "print(\"\\nEvaluación promedio por categoría:\")\n",
    "print(cursor.fetchall())"
   ]
  },
  {
   "cell_type": "code",
   "execution_count": 24,
   "id": "26b5eb34-6ceb-41a0-bd28-db71889d644f",
   "metadata": {},
   "outputs": [
    {
     "name": "stdout",
     "output_type": "stream",
     "text": [
      "\n",
      "Métodos de pago por categoría:\n",
      "[('Muebles', 'Tarjeta de crédito', 341), ('Electrónicos', 'Tarjeta de crédito', 317), ('Electrodomésticos', 'Tarjeta de crédito', 232), ('Juguetes', 'Tarjeta de crédito', 217), ('Deportes y diversión', 'Tarjeta de crédito', 197), ('Instrumentos musicales', 'Tarjeta de crédito', 140), ('Libros', 'Tarjeta de crédito', 134), ('Artículos para el hogar', 'Tarjeta de crédito', 126), ('Muebles', 'Nequi', 94), ('Electrónicos', 'Nequi', 93), ('Juguetes', 'Nequi', 78), ('Deportes y diversión', 'Nequi', 63), ('Electrodomésticos', 'Nequi', 59), ('Artículos para el hogar', 'Nequi', 38), ('Instrumentos musicales', 'Nequi', 33), ('Electrónicos', 'Cupón', 31), ('Juguetes', 'Cupón', 25), ('Libros', 'Nequi', 25), ('Muebles', 'Cupón', 25), ('Deportes y diversión', 'Cupón', 17), ('Electrodomésticos', 'Cupón', 17), ('Libros', 'Cupón', 10), ('Instrumentos musicales', 'Cupón', 8), ('Deportes y diversión', 'Tarjeta de débito', 7), ('Electrónicos', 'Tarjeta de débito', 7), ('Muebles', 'Tarjeta de débito', 5), ('Artículos para el hogar', 'Cupón', 4), ('Electrodomésticos', 'Tarjeta de débito', 4), ('Juguetes', 'Tarjeta de débito', 4), ('Libros', 'Tarjeta de débito', 4), ('Artículos para el hogar', 'Tarjeta de débito', 3), ('Instrumentos musicales', 'Tarjeta de débito', 1)]\n"
     ]
    }
   ],
   "source": [
    "# Consulta 5: Tipo de Pago y Cuotas\n",
    "cursor.execute(\"\"\"\n",
    "    SELECT \n",
    "        \"Categoría del Producto\",\n",
    "        \"Método de pago\",\n",
    "        COUNT(*) AS frecuencia\n",
    "    FROM tienda1\n",
    "    GROUP BY \"Categoría del Producto\", \"Método de pago\"\n",
    "    ORDER BY frecuencia DESC;\n",
    "\"\"\")\n",
    "print(\"\\nMétodos de pago por categoría:\")\n",
    "print(cursor.fetchall())"
   ]
  },
  {
   "cell_type": "code",
   "execution_count": 28,
   "id": "a89c4ada-3af3-48df-950c-28751d25e9d9",
   "metadata": {},
   "outputs": [
    {
     "name": "stdout",
     "output_type": "stream",
     "text": [
      "\n",
      "Ubicaciones únicas por categoría:\n",
      "[(19,)]\n",
      "Datos guardados exitosamente en la base de datos SQLite.\n"
     ]
    }
   ],
   "source": [
    "# Consulta 6: Coordenadas Geográficas\n",
    "cursor.execute(\"\"\"\n",
    "    SELECT COUNT(DISTINCT lat || ',' || lon) as ubicaciones_unicas\n",
    "    FROM tienda1;\n",
    "\"\"\")\n",
    "print(\"\\nUbicaciones únicas por categoría:\")\n",
    "print(cursor.fetchall())\n",
    "\n",
    "# Cerrar la conexión\n",
    "conn.close()\n",
    "\n",
    "print(\"Datos guardados exitosamente en la base de datos SQLite.\")"
   ]
  },
  {
   "cell_type": "code",
   "execution_count": 29,
   "id": "ab1db1b5-0eba-428a-ad9e-f5a8307727c7",
   "metadata": {},
   "outputs": [
    {
     "name": "stdout",
     "output_type": "stream",
     "text": [
      "\n",
      "Ingresos totales por tienda:\n",
      "Tienda 1: 1150880400.0\n",
      "Tienda 2: 1116343500.0\n",
      "Tienda 3: 1098019600.0\n",
      "Tienda 4: 1038375700.0\n"
     ]
    }
   ],
   "source": [
    "# 1. Calcular el ingreso total de cada tienda\n",
    "ingreso_tienda1 = tienda1['Precio'].sum()\n",
    "ingreso_tienda2 = tienda2['Precio'].sum()\n",
    "ingreso_tienda3 = tienda3['Precio'].sum()\n",
    "ingreso_tienda4 = tienda4['Precio'].sum()\n",
    "\n",
    "print(\"\\nIngresos totales por tienda:\")\n",
    "print(f\"Tienda 1: {ingreso_tienda1}\")\n",
    "print(f\"Tienda 2: {ingreso_tienda2}\")\n",
    "print(f\"Tienda 3: {ingreso_tienda3}\")\n",
    "print(f\"Tienda 4: {ingreso_tienda4}\")"
   ]
  },
  {
   "cell_type": "code",
   "execution_count": 31,
   "id": "cf713348-62f3-4536-8775-79545cae614a",
   "metadata": {},
   "outputs": [
    {
     "name": "stdout",
     "output_type": "stream",
     "text": [
      "\n",
      "Productos vendidos por categoría en Tienda 1:\n",
      "Categoría del Producto\n",
      "Artículos para el hogar    171\n",
      "Deportes y diversión       284\n",
      "Electrodomésticos          312\n",
      "Electrónicos               448\n",
      "Instrumentos musicales     182\n",
      "Juguetes                   324\n",
      "Libros                     173\n",
      "Muebles                    465\n",
      "dtype: int64\n",
      "\n",
      "Productos vendidos por categoría en Tienda 2:\n",
      "Categoría del Producto\n",
      "Artículos para el hogar    181\n",
      "Deportes y diversión       275\n",
      "Electrodomésticos          305\n",
      "Electrónicos               422\n",
      "Instrumentos musicales     224\n",
      "Juguetes                   313\n",
      "Libros                     197\n",
      "Muebles                    442\n",
      "dtype: int64\n",
      "\n",
      "Productos vendidos por categoría en Tienda 3:\n",
      "Categoría del Producto\n",
      "Artículos para el hogar    177\n",
      "Deportes y diversión       277\n",
      "Electrodomésticos          278\n",
      "Electrónicos               451\n",
      "Instrumentos musicales     177\n",
      "Juguetes                   315\n",
      "Libros                     185\n",
      "Muebles                    499\n",
      "dtype: int64\n",
      "\n",
      "Productos vendidos por categoría en Tienda 4:\n",
      "Categoría del Producto\n",
      "Artículos para el hogar    201\n",
      "Deportes y diversión       277\n",
      "Electrodomésticos          254\n",
      "Electrónicos               451\n",
      "Instrumentos musicales     170\n",
      "Juguetes                   338\n",
      "Libros                     187\n",
      "Muebles                    480\n",
      "dtype: int64\n"
     ]
    }
   ],
   "source": [
    "# 2. Calcular cantidad de productos vendidos por categoría en cada tienda\n",
    "productos_tienda1 = tienda1.groupby('Categoría del Producto').size()\n",
    "productos_tienda2 = tienda2.groupby('Categoría del Producto').size()\n",
    "productos_tienda3 = tienda3.groupby('Categoría del Producto').size()\n",
    "productos_tienda4 = tienda4.groupby('Categoría del Producto').size()\n",
    "\n",
    "print(\"\\nProductos vendidos por categoría en Tienda 1:\")\n",
    "print(productos_tienda1)\n",
    "print(\"\\nProductos vendidos por categoría en Tienda 2:\")\n",
    "print(productos_tienda2)\n",
    "print(\"\\nProductos vendidos por categoría en Tienda 3:\")\n",
    "print(productos_tienda3)\n",
    "print(\"\\nProductos vendidos por categoría en Tienda 4:\")\n",
    "print(productos_tienda4)"
   ]
  },
  {
   "cell_type": "code",
   "execution_count": 33,
   "id": "0f9b47c8-3b37-41d7-bc5d-03f272d45a58",
   "metadata": {},
   "outputs": [
    {
     "name": "stdout",
     "output_type": "stream",
     "text": [
      "\n",
      "Calificaciones promedio por tienda:\n",
      "Tienda 1: 3.976685036032217\n",
      "Tienda 2: 4.037303942348453\n",
      "Tienda 3: 4.048325561678677\n",
      "Tienda 4: 3.9957591178965224\n"
     ]
    }
   ],
   "source": [
    "# 3. Calcular calificaciones promedio de los clientes para cada tienda\n",
    "calificacion_tienda1 = tienda1['Calificación'].mean()\n",
    "calificacion_tienda2 = tienda2['Calificación'].mean()\n",
    "calificacion_tienda3 = tienda3['Calificación'].mean()\n",
    "calificacion_tienda4 = tienda4['Calificación'].mean()\n",
    "\n",
    "print(\"\\nCalificaciones promedio por tienda:\")\n",
    "print(f\"Tienda 1: {calificacion_tienda1}\")\n",
    "print(f\"Tienda 2: {calificacion_tienda2}\")\n",
    "print(f\"Tienda 3: {calificacion_tienda3}\")\n",
    "print(f\"Tienda 4: {calificacion_tienda4}\")"
   ]
  },
  {
   "cell_type": "code",
   "execution_count": 34,
   "id": "17268184-9eb8-4bbb-9787-01ef79a3912d",
   "metadata": {},
   "outputs": [
    {
     "name": "stdout",
     "output_type": "stream",
     "text": [
      "\n",
      "Productos más vendidos en Tienda 1:\n",
      "Producto\n",
      "TV LED UHD 4K              60\n",
      "Armario                    60\n",
      "Microondas                 60\n",
      "Secadora de ropa           58\n",
      "Bloques de construcción    56\n",
      "Name: count, dtype: int64\n",
      "\n",
      "Productos menos vendidos en Tienda 1:\n",
      "Producto\n",
      "Ciencia de datos con Python    39\n",
      "Pandereta                      36\n",
      "Olla de presión                35\n",
      "Auriculares con micrófono      33\n",
      "Celular ABXY                   33\n",
      "Name: count, dtype: int64\n",
      "\n",
      "Productos más vendidos en Tienda 2:\n",
      "Producto\n",
      "Iniciando en programación    65\n",
      "Microondas                   62\n",
      "Batería                      61\n",
      "Guitarra acústica            58\n",
      "Pandereta                    58\n",
      "Name: count, dtype: int64\n",
      "\n",
      "Productos menos vendidos en Tienda 2:\n",
      "Producto\n",
      "Auriculares        37\n",
      "Sillón             35\n",
      "Mesa de comedor    34\n",
      "Impresora          34\n",
      "Juego de mesa      32\n",
      "Name: count, dtype: int64\n",
      "\n",
      "Productos más vendidos en Tienda 3:\n",
      "Producto\n",
      "Kit de bancas      57\n",
      "Cama king          56\n",
      "Mesa de comedor    56\n",
      "Set de ollas       55\n",
      "Mesa de noche      55\n",
      "Name: count, dtype: int64\n",
      "\n",
      "Productos menos vendidos en Tienda 3:\n",
      "Producto\n",
      "Guitarra eléctrica         38\n",
      "Mochila                    36\n",
      "Microondas                 36\n",
      "Set de vasos               36\n",
      "Bloques de construcción    35\n",
      "Name: count, dtype: int64\n",
      "\n",
      "Productos más vendidos en Tienda 4:\n",
      "Producto\n",
      "Cama box                   62\n",
      "Cubertería                 59\n",
      "Dashboards con Power BI    56\n",
      "Cama king                  56\n",
      "Mesa de noche              55\n",
      "Name: count, dtype: int64\n",
      "\n",
      "Productos menos vendidos en Tienda 4:\n",
      "Producto\n",
      "Lavadora de ropa               38\n",
      "Ciencia de datos con Python    38\n",
      "Guitarra acústica              37\n",
      "Armario                        34\n",
      "Guitarra eléctrica             33\n",
      "Name: count, dtype: int64\n"
     ]
    }
   ],
   "source": [
    "# 4. Identificar productos más y menos vendidos en cada tienda\n",
    "# Para Tienda 1\n",
    "productos_tienda1 = tienda1['Producto'].value_counts()\n",
    "print(\"\\nProductos más vendidos en Tienda 1:\")\n",
    "print(productos_tienda1.head())\n",
    "print(\"\\nProductos menos vendidos en Tienda 1:\")\n",
    "print(productos_tienda1.tail())\n",
    "\n",
    "# Para Tienda 2\n",
    "productos_tienda2 = tienda2['Producto'].value_counts()\n",
    "print(\"\\nProductos más vendidos en Tienda 2:\")\n",
    "print(productos_tienda2.head())\n",
    "print(\"\\nProductos menos vendidos en Tienda 2:\")\n",
    "print(productos_tienda2.tail())\n",
    "\n",
    "# Para Tienda 3\n",
    "productos_tienda3 = tienda3['Producto'].value_counts()\n",
    "print(\"\\nProductos más vendidos en Tienda 3:\")\n",
    "print(productos_tienda3.head())\n",
    "print(\"\\nProductos menos vendidos en Tienda 3:\")\n",
    "print(productos_tienda3.tail())\n",
    "\n",
    "# Para Tienda 4\n",
    "productos_tienda4 = tienda4['Producto'].value_counts()\n",
    "print(\"\\nProductos más vendidos en Tienda 4:\")\n",
    "print(productos_tienda4.head())\n",
    "print(\"\\nProductos menos vendidos en Tienda 4:\")\n",
    "print(productos_tienda4.tail())"
   ]
  },
  {
   "cell_type": "code",
   "execution_count": 36,
   "id": "57996e09-92b7-4dc8-8f2a-de976651c960",
   "metadata": {},
   "outputs": [
    {
     "name": "stdout",
     "output_type": "stream",
     "text": [
      "\n",
      "Costo de envío promedio por tienda:\n",
      "Tienda 1: 26018.60958033065\n",
      "Tienda 2: 25216.235693090293\n",
      "Tienda 3: 24805.680373039424\n",
      "Tienda 4: 23459.457167090754\n"
     ]
    }
   ],
   "source": [
    "# 5. Calcular el costo de envío promedio para cada tienda\n",
    "envio_promedio_tienda1 = tienda1['Costo de envío'].mean()\n",
    "envio_promedio_tienda2 = tienda2['Costo de envío'].mean()\n",
    "envio_promedio_tienda3 = tienda3['Costo de envío'].mean()\n",
    "envio_promedio_tienda4 = tienda4['Costo de envío'].mean()\n",
    "\n",
    "print(\"\\nCosto de envío promedio por tienda:\")\n",
    "print(f\"Tienda 1: {envio_promedio_tienda1}\")\n",
    "print(f\"Tienda 2: {envio_promedio_tienda2}\")\n",
    "print(f\"Tienda 3: {envio_promedio_tienda3}\")\n",
    "print(f\"Tienda 4: {envio_promedio_tienda4}\")"
   ]
  },
  {
   "cell_type": "code",
   "execution_count": 37,
   "id": "66680722-abee-447e-b2fd-319f3df875d4",
   "metadata": {},
   "outputs": [
    {
     "data": {
      "image/png": "[encoded data removed]",
      "text/plain": [
       "<Figure size 1000x600 with 1 Axes>"
      ]
     },
     "metadata": {},
     "output_type": "display_data"
    }
   ],
   "source": [
    "# Gráfico 1: Ingresos totales por tienda (Gráfico de barras)\n",
    "plt.figure(figsize=(10, 6))\n",
    "tiendas = ['Tienda 1', 'Tienda 2', 'Tienda 3', 'Tienda 4']\n",
    "ingresos = [ingreso_tienda1, ingreso_tienda2, ingreso_tienda3, ingreso_tienda4]\n",
    "plt.bar(tiendas, ingresos, color=['blue', 'green', 'red', 'purple'])\n",
    "plt.title('Ingresos totales por tienda')\n",
    "plt.xlabel('Tiendas')\n",
    "plt.ylabel('Ingresos totales')\n",
    "plt.grid(True)\n",
    "plt.show()"
   ]
  },
  {
   "cell_type": "code",
   "execution_count": 39,
   "id": "dc8c5d72-0c0b-4e8b-9396-a9ec0f46b611",
   "metadata": {},
   "outputs": [
    {
     "data": {
      "image/png": "[encoded data removed]",
      "text/plain": [
       "<Figure size 800x800 with 1 Axes>"
      ]
     },
     "metadata": {},
     "output_type": "display_data"
    }
   ],
   "source": [
    "# Gráfico 2: Distribución de categorías de productos (Gráfico de pastel)\n",
    "plt.figure(figsize=(8, 8))\n",
    "categorias = tienda1['Categoría del Producto'].value_counts()\n",
    "plt.pie(categorias, labels=categorias.index, autopct='%1.1f%%', startangle=140)\n",
    "plt.title('Distribución de categorías de productos')\n",
    "plt.show()"
   ]
  },
  {
   "cell_type": "code",
   "execution_count": null,
   "id": "4f01bf86",
   "metadata": {},
   "outputs": [
    {
     "name": "stdout",
     "output_type": "stream",
     "text": [
      "\n",
      "Ingresos totales por tienda:\n",
      "Tienda 1: 1150880400.0\n",
      "Tienda 2: 1116343500.0\n",
      "Tienda 3: 1098019600.0\n",
      "Tienda 4: 1038375700.0\n"
     ]
    }
   ],
   "source": [
    "### Análisis de ingresos totales\n",
    "# Calcular el ingreso total de cada tienda\n",
    "ingreso_tienda1 = tienda1['Precio'].sum()\n",
    "ingreso_tienda2 = tienda2['Precio'].sum()\n",
    "ingreso_tienda3 = tienda3['Precio'].sum()\n",
    "ingreso_tienda4 = tienda4['Precio'].sum()\n",
    "\n",
    "print(\"\\nIngresos totales por tienda:\")\n",
    "print(f\"Tienda 1: {ingreso_tienda1}\")\n",
    "print(f\"Tienda 2: {ingreso_tienda2}\")\n",
    "print(f\"Tienda 3: {ingreso_tienda3}\")\n",
    "print(f\"Tienda 4: {ingreso_tienda4}\")"
   ]
  },
  {
   "cell_type": "code",
   "execution_count": null,
   "id": "8e7d7ced",
   "metadata": {},
   "outputs": [
    {
     "name": "stdout",
     "output_type": "stream",
     "text": [
      "\n",
      "Ingresos totales por tienda:\n",
      "Tienda 1: 1150880400.0\n",
      "Tienda 2: 1116343500.0\n",
      "Tienda 3: 1098019600.0\n",
      "Tienda 4: 1038375700.0\n"
     ]
    }
   ],
   "source": [
    "### Análisis de ingresos totales\n",
    "# Calcular el ingreso total de cada tienda\n",
    "ingreso_tienda1 = tienda1['Precio'].sum()\n",
    "ingreso_tienda2 = tienda2['Precio'].sum()\n",
    "ingreso_tienda3 = tienda3['Precio'].sum()\n",
    "ingreso_tienda4 = tienda4['Precio'].sum()\n",
    "\n",
    "print(\"\\nIngresos totales por tienda:\")\n",
    "print(f\"Tienda 1: {ingreso_tienda1}\")\n",
    "print(f\"Tienda 2: {ingreso_tienda2}\")\n",
    "print(f\"Tienda 3: {ingreso_tienda3}\")\n",
    "print(f\"Tienda 4: {ingreso_tienda4}\")"
   ]
  },
  {
   "cell_type": "code",
   "execution_count": 40,
   "id": "9351eff5-c937-4626-b08a-e5675635d197",
   "metadata": {},
   "outputs": [
    {
     "data": {
      "image/png": "[encoded data removed]",
      "text/plain": [
       "<Figure size 1000x600 with 1 Axes>"
      ]
     },
     "metadata": {},
     "output_type": "display_data"
    }
   ],
   "source": [
    "# Gráfico 3: Calificaciones promedio vs Costo de envío promedio (Gráfico de dispersión)\n",
    "plt.figure(figsize=(10, 6))\n",
    "calificaciones = [calificacion_tienda1, calificacion_tienda2, calificacion_tienda3, calificacion_tienda4]\n",
    "envios = [envio_promedio_tienda1, envio_promedio_tienda2, envio_promedio_tienda3, envio_promedio_tienda4]\n",
    "plt.scatter(envios, calificaciones, s=100, c='orange', alpha=0.6)\n",
    "for i, txt in enumerate(tiendas):\n",
    "    plt.annotate(txt, (envios[i], calificaciones[i]), textcoords=\"offset points\", xytext=(0,10), ha='center')\n",
    "plt.title('Relación entre calificaciones promedio y costo de envío')\n",
    "plt.xlabel('Costo de envío promedio')\n",
    "plt.ylabel('Calificación promedio')\n",
    "plt.grid(True)\n",
    "plt.show()"
   ]
  },
  {
   "cell_type": "code",
   "execution_count": 41,
   "id": "dd6b5340-5730-4396-933d-4c3998d87bc6",
   "metadata": {},
   "outputs": [
    {
     "name": "stdout",
     "output_type": "stream",
     "text": [
      "\n",
      "Ingresos totales por tienda:\n",
      "Tienda 1: 1150880400.0\n",
      "Tienda 2: 1116343500.0\n",
      "Tienda 3: 1098019600.0\n",
      "Tienda 4: 1038375700.0\n"
     ]
    }
   ],
   "source": [
    "### Análisis de ingresos totales\n",
    "# Calcular el ingreso total de cada tienda\n",
    "ingreso_tienda1 = tienda1['Precio'].sum()\n",
    "ingreso_tienda2 = tienda2['Precio'].sum()\n",
    "ingreso_tienda3 = tienda3['Precio'].sum()\n",
    "ingreso_tienda4 = tienda4['Precio'].sum()\n",
    "\n",
    "print(\"\\nIngresos totales por tienda:\")\n",
    "print(f\"Tienda 1: {ingreso_tienda1}\")\n",
    "print(f\"Tienda 2: {ingreso_tienda2}\")\n",
    "print(f\"Tienda 3: {ingreso_tienda3}\")\n",
    "print(f\"Tienda 4: {ingreso_tienda4}\")"
   ]
  },
  {
   "cell_type": "code",
   "execution_count": 43,
   "id": "aada0325-fd5c-43b4-8fe9-e89b29c8765f",
   "metadata": {},
   "outputs": [
    {
     "name": "stdout",
     "output_type": "stream",
     "text": [
      "\n",
      "Productos vendidos por categoría en Tienda 1:\n",
      "Categoría del Producto\n",
      "Artículos para el hogar    171\n",
      "Deportes y diversión       284\n",
      "Electrodomésticos          312\n",
      "Electrónicos               448\n",
      "Instrumentos musicales     182\n",
      "Juguetes                   324\n",
      "Libros                     173\n",
      "Muebles                    465\n",
      "dtype: int64\n",
      "\n",
      "Productos vendidos por categoría en Tienda 2:\n",
      "Categoría del Producto\n",
      "Artículos para el hogar    181\n",
      "Deportes y diversión       275\n",
      "Electrodomésticos          305\n",
      "Electrónicos               422\n",
      "Instrumentos musicales     224\n",
      "Juguetes                   313\n",
      "Libros                     197\n",
      "Muebles                    442\n",
      "dtype: int64\n",
      "\n",
      "Productos vendidos por categoría en Tienda 3:\n",
      "Categoría del Producto\n",
      "Artículos para el hogar    177\n",
      "Deportes y diversión       277\n",
      "Electrodomésticos          278\n",
      "Electrónicos               451\n",
      "Instrumentos musicales     177\n",
      "Juguetes                   315\n",
      "Libros                     185\n",
      "Muebles                    499\n",
      "dtype: int64\n",
      "\n",
      "Productos vendidos por categoría en Tienda 4:\n",
      "Categoría del Producto\n",
      "Artículos para el hogar    201\n",
      "Deportes y diversión       277\n",
      "Electrodomésticos          254\n",
      "Electrónicos               451\n",
      "Instrumentos musicales     170\n",
      "Juguetes                   338\n",
      "Libros                     187\n",
      "Muebles                    480\n",
      "dtype: int64\n"
     ]
    }
   ],
   "source": [
    "#### Análisis de productos por categoría\n",
    "# Calcular cantidad de productos vendidos por categoría en cada tienda\n",
    "productos_tienda1 = tienda1.groupby('Categoría del Producto').size()\n",
    "productos_tienda2 = tienda2.groupby('Categoría del Producto').size()\n",
    "productos_tienda3 = tienda3.groupby('Categoría del Producto').size()\n",
    "productos_tienda4 = tienda4.groupby('Categoría del Producto').size()\n",
    "\n",
    "print(\"\\nProductos vendidos por categoría en Tienda 1:\")\n",
    "print(productos_tienda1)\n",
    "print(\"\\nProductos vendidos por categoría en Tienda 2:\")\n",
    "print(productos_tienda2)\n",
    "print(\"\\nProductos vendidos por categoría en Tienda 3:\")\n",
    "print(productos_tienda3)\n",
    "print(\"\\nProductos vendidos por categoría en Tienda 4:\")\n",
    "print(productos_tienda4)"
   ]
  },
  {
   "cell_type": "code",
   "execution_count": 44,
   "id": "96a61475-d7e2-4f2e-ab80-d27b1551d6bd",
   "metadata": {},
   "outputs": [
    {
     "name": "stdout",
     "output_type": "stream",
     "text": [
      "\n",
      "Calificaciones promedio por tienda:\n",
      "Tienda 1: 3.976685036032217\n",
      "Tienda 2: 4.037303942348453\n",
      "Tienda 3: 4.048325561678677\n",
      "Tienda 4: 3.9957591178965224\n"
     ]
    }
   ],
   "source": [
    "### Análisis de calificaciones\n",
    "# Calcular calificaciones promedio de los clientes para cada tienda\n",
    "calificacion_tienda1 = tienda1['Calificación'].mean()\n",
    "calificacion_tienda2 = tienda2['Calificación'].mean()\n",
    "calificacion_tienda3 = tienda3['Calificación'].mean()\n",
    "calificacion_tienda4 = tienda4['Calificación'].mean()\n",
    "\n",
    "print(\"\\nCalificaciones promedio por tienda:\")\n",
    "print(f\"Tienda 1: {calificacion_tienda1}\")\n",
    "print(f\"Tienda 2: {calificacion_tienda2}\")\n",
    "print(f\"Tienda 3: {calificacion_tienda3}\")\n",
    "print(f\"Tienda 4: {calificacion_tienda4}\")"
   ]
  },
  {
   "cell_type": "code",
   "execution_count": 45,
   "id": "a41ca1f9-7125-4ef5-a24d-92fdaf53f13b",
   "metadata": {},
   "outputs": [
    {
     "name": "stdout",
     "output_type": "stream",
     "text": [
      "\n",
      "Productos más vendidos en Tienda 1:\n",
      "Producto\n",
      "TV LED UHD 4K              60\n",
      "Armario                    60\n",
      "Microondas                 60\n",
      "Secadora de ropa           58\n",
      "Bloques de construcción    56\n",
      "Name: count, dtype: int64\n",
      "\n",
      "Productos menos vendidos en Tienda 1:\n",
      "Producto\n",
      "Ciencia de datos con Python    39\n",
      "Pandereta                      36\n",
      "Olla de presión                35\n",
      "Auriculares con micrófono      33\n",
      "Celular ABXY                   33\n",
      "Name: count, dtype: int64\n",
      "\n",
      "Productos más vendidos en Tienda 2:\n",
      "Producto\n",
      "Iniciando en programación    65\n",
      "Microondas                   62\n",
      "Batería                      61\n",
      "Guitarra acústica            58\n",
      "Pandereta                    58\n",
      "Name: count, dtype: int64\n",
      "\n",
      "Productos menos vendidos en Tienda 2:\n",
      "Producto\n",
      "Auriculares        37\n",
      "Sillón             35\n",
      "Mesa de comedor    34\n",
      "Impresora          34\n",
      "Juego de mesa      32\n",
      "Name: count, dtype: int64\n",
      "\n",
      "Productos más vendidos en Tienda 3:\n",
      "Producto\n",
      "Kit de bancas      57\n",
      "Cama king          56\n",
      "Mesa de comedor    56\n",
      "Set de ollas       55\n",
      "Mesa de noche      55\n",
      "Name: count, dtype: int64\n",
      "\n",
      "Productos menos vendidos en Tienda 3:\n",
      "Producto\n",
      "Guitarra eléctrica         38\n",
      "Mochila                    36\n",
      "Microondas                 36\n",
      "Set de vasos               36\n",
      "Bloques de construcción    35\n",
      "Name: count, dtype: int64\n",
      "\n",
      "Productos más vendidos en Tienda 4:\n",
      "Producto\n",
      "Cama box                   62\n",
      "Cubertería                 59\n",
      "Dashboards con Power BI    56\n",
      "Cama king                  56\n",
      "Mesa de noche              55\n",
      "Name: count, dtype: int64\n",
      "\n",
      "Productos menos vendidos en Tienda 4:\n",
      "Producto\n",
      "Lavadora de ropa               38\n",
      "Ciencia de datos con Python    38\n",
      "Guitarra acústica              37\n",
      "Armario                        34\n",
      "Guitarra eléctrica             33\n",
      "Name: count, dtype: int64\n"
     ]
    }
   ],
   "source": [
    "### Análisis de productos más y menos vendidos\n",
    "# Identificar productos más y menos vendidos en cada tienda\n",
    "# Para Tienda 1\n",
    "productos_tienda1 = tienda1['Producto'].value_counts()\n",
    "print(\"\\nProductos más vendidos en Tienda 1:\")\n",
    "print(productos_tienda1.head())\n",
    "print(\"\\nProductos menos vendidos en Tienda 1:\")\n",
    "print(productos_tienda1.tail())\n",
    "\n",
    "# Para Tienda 2\n",
    "productos_tienda2 = tienda2['Producto'].value_counts()\n",
    "print(\"\\nProductos más vendidos en Tienda 2:\")\n",
    "print(productos_tienda2.head())\n",
    "print(\"\\nProductos menos vendidos en Tienda 2:\")\n",
    "print(productos_tienda2.tail())\n",
    "\n",
    "# Para Tienda 3\n",
    "productos_tienda3 = tienda3['Producto'].value_counts()\n",
    "print(\"\\nProductos más vendidos en Tienda 3:\")\n",
    "print(productos_tienda3.head())\n",
    "print(\"\\nProductos menos vendidos en Tienda 3:\")\n",
    "print(productos_tienda3.tail())\n",
    "\n",
    "# Para Tienda 4\n",
    "productos_tienda4 = tienda4['Producto'].value_counts()\n",
    "print(\"\\nProductos más vendidos en Tienda 4:\")\n",
    "print(productos_tienda4.head())\n",
    "print(\"\\nProductos menos vendidos en Tienda 4:\")\n",
    "print(productos_tienda4.tail())\n"
   ]
  },
  {
   "cell_type": "code",
   "execution_count": 46,
   "id": "2e9c29b3-beb3-4463-83cd-ffcef9bcc6e1",
   "metadata": {},
   "outputs": [
    {
     "name": "stdout",
     "output_type": "stream",
     "text": [
      "\n",
      "Costo de envío promedio por tienda:\n",
      "Tienda 1: 26018.60958033065\n",
      "Tienda 2: 25216.235693090293\n",
      "Tienda 3: 24805.680373039424\n",
      "Tienda 4: 23459.457167090754\n"
     ]
    }
   ],
   "source": [
    "### Análisis de costos de envío\n",
    "# Calcular el costo de envío promedio para cada tienda\n",
    "envio_promedio_tienda1 = tienda1['Costo de envío'].mean()\n",
    "envio_promedio_tienda2 = tienda2['Costo de envío'].mean()\n",
    "envio_promedio_tienda3 = tienda3['Costo de envío'].mean()\n",
    "envio_promedio_tienda4 = tienda4['Costo de envío'].mean()\n",
    "\n",
    "print(\"\\nCosto de envío promedio por tienda:\")\n",
    "print(f\"Tienda 1: {envio_promedio_tienda1}\")\n",
    "print(f\"Tienda 2: {envio_promedio_tienda2}\")\n",
    "print(f\"Tienda 3: {envio_promedio_tienda3}\")\n",
    "print(f\"Tienda 4: {envio_promedio_tienda4}\")"
   ]
  }
 ],
 "metadata": {
  "kernelspec": {
   "display_name": "Python 3",
   "language": "python",
   "name": "python3"
  },
  "language_info": {
   "codemirror_mode": {
    "name": "ipython",
    "version": 3
   },
   "file_extension": ".py",
   "mimetype": "text/x-python",
   "name": "python",
   "nbconvert_exporter": "python",
   "pygments_lexer": "ipython3",
   "version": "3.13.1"
  }
 },
 "nbformat": 4,
 "nbformat_minor": 5
}
